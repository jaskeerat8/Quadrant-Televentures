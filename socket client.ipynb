{
 "cells": [
  {
   "cell_type": "code",
   "execution_count": 4,
   "id": "b9daee78",
   "metadata": {},
   "outputs": [
    {
     "name": "stdout",
     "output_type": "stream",
     "text": [
      "Connected to server, send command like: tabpy/stop_tabpy/quit/stop_server\n",
      "Type: quit\n",
      "('192.168.1.42', 50105) disconnected from server\n"
     ]
    }
   ],
   "source": [
    "import socket\n",
    "import os, sys\n",
    "import subprocess\n",
    "import json\n",
    "\n",
    "directory_path = r\"C:\\Users\\jaske\\OneDrive\\Desktop\\NGO\\projects\\socket\"\n",
    "f = open(directory_path + \"\\config.json\", 'r')\n",
    "data = json.loads(f.read())\n",
    "f.close()\n",
    "\n",
    "client_host = data[\"host\"]\n",
    "client_port = data[\"port\"]\n",
    "\n",
    "client = socket.socket(socket.AF_INET, socket.SOCK_STREAM)\n",
    "client.connect((client_host, client_port))\n",
    "\n",
    "print(client.recv(1024).decode(\"utf-8\"))\n",
    "connected = True\n",
    "\n",
    "while(connected):\n",
    "    msg = input(\"Type: \")\n",
    "    client.send(msg.encode(\"utf-8\"))\n",
    "    \n",
    "    if(msg == \"quit\"):\n",
    "        connected = False\n",
    "    print(client.recv(1024).decode(\"utf-8\"))\n",
    "\n",
    "client.close()"
   ]
  },
  {
   "cell_type": "code",
   "execution_count": null,
   "id": "e799f2e3",
   "metadata": {},
   "outputs": [],
   "source": []
  }
 ],
 "metadata": {
  "kernelspec": {
   "display_name": "Python 3 (ipykernel)",
   "language": "python",
   "name": "python3"
  },
  "language_info": {
   "codemirror_mode": {
    "name": "ipython",
    "version": 3
   },
   "file_extension": ".py",
   "mimetype": "text/x-python",
   "name": "python",
   "nbconvert_exporter": "python",
   "pygments_lexer": "ipython3",
   "version": "3.9.12"
  }
 },
 "nbformat": 4,
 "nbformat_minor": 5
}
