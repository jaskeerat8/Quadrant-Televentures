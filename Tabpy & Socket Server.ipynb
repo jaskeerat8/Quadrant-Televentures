{
 "cells": [
  {
   "cell_type": "code",
   "execution_count": 11,
   "id": "22804e03",
   "metadata": {},
   "outputs": [],
   "source": [
    "#Importing Libraries\n",
    "import json\n",
    "import socket\n",
    "import time\n",
    "from threading import Thread\n",
    "import os, sys, shutil, signal\n",
    "import subprocess\n",
    "from subprocess import Popen, CREATE_NEW_CONSOLE"
   ]
  },
  {
   "cell_type": "code",
   "execution_count": 12,
   "id": "a71cc918",
   "metadata": {},
   "outputs": [],
   "source": [
    "#Cleaning the Output Path\n",
    "directory_path = r\"C:\\Users\\jaske\\OneDrive\\Desktop\\NGO\\projects\\socket\"\n",
    "shutil.rmtree(directory_path)\n",
    "os.mkdir(directory_path)"
   ]
  },
  {
   "cell_type": "code",
   "execution_count": 13,
   "id": "100330ce",
   "metadata": {},
   "outputs": [
    {
     "name": "stdout",
     "output_type": "stream",
     "text": [
      "Running the command: tabpy > C:\\Users\\jaske\\OneDrive\\Desktop\\NGO\\projects\\socket\\output.txt\n",
      "Output file found\n",
      "Tabpy Hostname: 192.168.1.42 or localhost\n",
      "Tabpy running on the port: 9004\n"
     ]
    }
   ],
   "source": [
    "#Starting Tabpy Server\n",
    "outputpath = directory_path + \"\\output.txt\"\n",
    "\n",
    "cmd = \"tabpy > \" + outputpath\n",
    "print(\"Running the command: \" + str(cmd))\n",
    "process = Popen(cmd.split(), shell=True, stdin=None, stdout=None, stderr=None, close_fds=True, creationflags=CREATE_NEW_CONSOLE)\n",
    "process_pid = process.pid\n",
    "\n",
    "found = 0\n",
    "while(found == 0):\n",
    "    if(os.path.isfile(outputpath)):\n",
    "        time.sleep(0.5)\n",
    "        print(\"Output file found\")\n",
    "        found = 1\n",
    "    else:\n",
    "        time.sleep(2)\n",
    "\n",
    "f = open(outputpath)\n",
    "tabpy_hostname = socket.gethostbyname(socket.gethostname()) + \" or localhost\"\n",
    "tabpy_port = int(f.readlines()[-1].split(\" \")[-1].strip())\n",
    "f.close()\n",
    "\n",
    "print(\"Tabpy Hostname: \" + tabpy_hostname)\n",
    "print(\"Tabpy running on the port: \" + str(tabpy_port))"
   ]
  },
  {
   "cell_type": "code",
   "execution_count": 14,
   "id": "949bbe2d",
   "metadata": {},
   "outputs": [],
   "source": [
    "#Setting up Socket Server configurations\n",
    "server_host = socket.gethostbyname(socket.gethostname())\n",
    "server_port = 9999\n",
    "\n",
    "f = open(directory_path + \"\\config.json\", 'w')\n",
    "server_config = {\"host\":server_host, \"port\":server_port}\n",
    "json.dump(server_config, f)\n",
    "f.close()"
   ]
  },
  {
   "cell_type": "code",
   "execution_count": 15,
   "id": "1b243dfa",
   "metadata": {},
   "outputs": [
    {
     "name": "stdout",
     "output_type": "stream",
     "text": [
      "Server Started \n",
      "Server Binded \n",
      "Server Listening \n",
      "Server Waiting...\n",
      "Server is still online\n",
      "Server Connected to ('192.168.1.42', 50084) client\n",
      "Server is still online\n",
      "Server Connected to ('192.168.1.155', 39748) client\n",
      "Server is still online\n",
      "('192.168.1.42', 50084) disconnected from server\n",
      "('192.168.1.155', 39748) disconnected from server\n",
      "Server Connected to ('192.168.1.42', 50105) client\n",
      "Closing Server Socket\n",
      "('192.168.1.42', 50105) disconnected from server\n"
     ]
    }
   ],
   "source": [
    "#Stopping Tabpy Server\n",
    "def stop_tabpy(process_pid):\n",
    "    try:\n",
    "        subprocess.check_call('taskkill /F /T /PID %i' % process_pid)\n",
    "        return \"Tabpy Server closed successfully\"\n",
    "    except Exception as e:\n",
    "        return \"Error closing Tabpy Server \" + str(e)\n",
    "\n",
    "#Handling Client responses\n",
    "def send_info_to_client(client, address, tabpy_hostname, tabpy_port, process_pid):\n",
    "    \n",
    "    client.send(str.encode(\"Connected to server, send command like: tabpy/stop_tabpy/quit/stop_server\"))\n",
    "    \n",
    "    connected = True\n",
    "    while(connected):\n",
    "        msg = client.recv(1024).decode(\"utf-8\")\n",
    "        if((msg == \"quit\")):\n",
    "            send_msg = f\"{str(address)} disconnected from server\"\n",
    "            connected = False\n",
    "        elif(msg == \"stop_server\"):\n",
    "            global server_status\n",
    "            server_status = 1\n",
    "            send_msg = \"Socket Server disconnected\"\n",
    "        elif(msg == \"stop_tabpy\"):\n",
    "            send_msg = stop_tabpy(process_pid)\n",
    "        elif(\"tabpy\" in msg):\n",
    "            send_msg = f\"USE hostname: {tabpy_hostname}, port: {tabpy_port}\"\n",
    "        else:\n",
    "            send_msg = \"command not found\"\n",
    "        client.send(str.encode(send_msg))\n",
    "    print(send_msg)\n",
    "    client.close()\n",
    "\n",
    "\n",
    "server = socket.socket(socket.AF_INET, socket.SOCK_STREAM)\n",
    "server.bind((server_host, server_port))\n",
    "server.listen(100)\n",
    "print(\"Server Started \\nServer Binded \\nServer Listening \\nServer Waiting...\")\n",
    "\n",
    "server_status = 0\n",
    "while(server_status == 0):\n",
    "    \n",
    "    client, address = server.accept()\n",
    "    print(f\"Server Connected to {str(address)} client\")\n",
    "    \n",
    "    t = Thread(target=send_info_to_client, args=(client, address, tabpy_hostname, tabpy_port, process.pid))\n",
    "    t.start()\n",
    "    #t.join()\n",
    "    \n",
    "    if(server_status == 1):\n",
    "        print(\"Server is offline\")\n",
    "        break\n",
    "    else:\n",
    "        print(\"Server is still online\")\n",
    "\n",
    "\n",
    "print(\"Closing Server Socket\")\n",
    "server.close()"
   ]
  },
  {
   "cell_type": "code",
   "execution_count": null,
   "id": "17c271bd",
   "metadata": {},
   "outputs": [],
   "source": []
  }
 ],
 "metadata": {
  "kernelspec": {
   "display_name": "Python 3 (ipykernel)",
   "language": "python",
   "name": "python3"
  },
  "language_info": {
   "codemirror_mode": {
    "name": "ipython",
    "version": 3
   },
   "file_extension": ".py",
   "mimetype": "text/x-python",
   "name": "python",
   "nbconvert_exporter": "python",
   "pygments_lexer": "ipython3",
   "version": "3.9.12"
  }
 },
 "nbformat": 4,
 "nbformat_minor": 5
}
